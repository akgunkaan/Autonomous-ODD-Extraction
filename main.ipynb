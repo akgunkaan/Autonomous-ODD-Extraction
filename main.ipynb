{
  "cells": [
    {
      "cell_type": "code",
      "execution_count": null,
      "metadata": {
        "colab": {
          "base_uri": "https://localhost:8080/"
        },
        "id": "I8P92ljwf3ZZ",
        "outputId": "ce393614-8143-4d1f-944a-3f21288f76a7"
      },
      "outputs": [],
      "source": [
        "!mkdir -p /data/sets/nuscenes  # Make the directory to store the nuScenes dataset in.\n",
        "!wget https://www.nuscenes.org/data/v1.0-mini.tgz  # Download the nuScenes mini split.\n",
        "!tar -xf v1.0-mini.tgz -C /data/sets/nuscenes  # Uncompress the nuScenes mini split.\n",
        "!pip install nuscenes-devkit &> /dev/null  # Install nuScenes.\n",
        "!pip install pyyaml &> /dev/null\n",
        "!pip uninstall nuscenes-devkit -y\n",
        "!pip install nuscenes-devkit"
      ]
    },
    {
      "cell_type": "code",
      "execution_count": null,
      "metadata": {
        "colab": {
          "base_uri": "https://localhost:8080/"
        },
        "id": "hPrJP1yBga57",
        "outputId": "f98e3c90-d70f-47dc-b69f-8beac4d8537a"
      },
      "outputs": [],
      "source": [
        "import datetime\n",
        "import uuid\n",
        "import json\n",
        "import numpy as np\n",
        "import warnings\n",
        "import yaml\n",
        "import os\n",
        "\n",
        "from nuscenes.nuscenes import NuScenes\n",
        "from sklearn.cluster import KMeans\n",
        "from collections import defaultdict\n",
        "\n",
        "# Suppress KMeans warning about n_init\n",
        "warnings.filterwarnings(\"ignore\", category=UserWarning, module='sklearn.cluster._kmeans')\n",
        "\n",
        "NUSCENES_ROOT = '/data/sets/nuscenes'\n",
        "nusc = NuScenes(version='v1.0-mini', dataroot=NUSCENES_ROOT)\n",
        "\n",
        "print(\"NuScenes dataset loaded successfully.\")"
      ]
    },
    {
      "cell_type": "markdown",
      "metadata": {
        "id": "G9E5aQaXuAE_"
      },
      "source": [
        "Definition of ODD Parameters According to SES Components"
      ]
    },
    {
      "cell_type": "code",
      "execution_count": null,
      "metadata": {
        "colab": {
          "base_uri": "https://localhost:8080/"
        },
        "id": "fMbXQXn6tzwn",
        "outputId": "8c6a4ba8-2dfa-4da4-ad11-baf27bbf6c14"
      },
      "outputs": [],
      "source": [
        "# Definition of SES (System Entity Structure) components\n",
        "# This part can be considered more as documentation or a fixed structure.\n",
        "ses_schema = {\n",
        "    \"Entity\": {\n",
        "        \"Environment\": [\"Weather\", \"Illumination\", \"SceneType\", \"ObjectCategory\", \"ObjectAttribute\", \"Visibility\"],\n",
        "        \"VehicleState\": [\"Position\", \"Orientation\", \"SensorType\", \"CalibrationDetails\"],\n",
        "        \"OperationalConditions\": [\"Traffic\", \"RoadType\", \"SpeedRange\", \"Route\", \"LogDetails\"]\n",
        "    },\n",
        "    \"Multi-Aspect\": {\n",
        "        \"Sensors\": [\"Lidar\", \"Radar\", \"Camera\"]\n",
        "    },\n",
        "    \"Specialization\": {\n",
        "        \"Weather\": [\"Clear\", \"Rainy\", \"Snowy\"],\n",
        "        \"SceneType\": [\"City\", \"Highway\", \"Suburban\"],\n",
        "        \"ObjectCategory\": [\"Pedestrian\", \"Car\", \"Bicycle\"]\n",
        "    }\n",
        "}\n",
        "\n",
        "print(\"SES Schema defined.\")"
      ]
    },
    {
      "cell_type": "markdown",
      "metadata": {
        "id": "gIDjSPgot9M4"
      },
      "source": [
        "Timestamp Generation for Each ODD"
      ]
    },
    {
      "cell_type": "code",
      "execution_count": null,
      "metadata": {
        "colab": {
          "base_uri": "https://localhost:8080/"
        },
        "id": "DNveImKvt5a_",
        "outputId": "f004969f-b6a5-4e10-8b4c-2df7c08cd7e9"
      },
      "outputs": [],
      "source": [
        "def generate_odd_timestamp():\n",
        "    now = datetime.datetime.utcnow().strftime('%Y%m%d%H%M%S')\n",
        "    unique_id = uuid.uuid4().hex[:6]\n",
        "    return f\"{now}_{unique_id}\"\n",
        "\n",
        "print(f\"Example ODD Timestamp: {generate_odd_timestamp()}\")"
      ]
    },
    {
      "cell_type": "markdown",
      "metadata": {
        "id": "YjMQ-GMjuNCv"
      },
      "source": [
        " Mapping Parameters to SES Components and Data Transformation Functions"
      ]
    },
    {
      "cell_type": "code",
      "execution_count": null,
      "metadata": {
        "id": "IHt370IU79M2"
      },
      "outputs": [],
      "source": [
        "# Suppress KMeans warning about n_init\n",
        "warnings.filterwarnings(\"ignore\", category=UserWarning, module='sklearn.cluster._kmeans')\n",
        "\n",
        "# Function to generate a unique ODD timestamp\n",
        "def generate_odd_timestamp():\n",
        "    now = datetime.datetime.utcnow().strftime('%Y%m%d%H%M%S')\n",
        "    unique_id = uuid.uuid4().hex[:6]\n",
        "    return f\"{now}_{unique_id}\"\n",
        "\n",
        "\n",
        "# Load the nuScenes dataset (assuming it's already downloaded and extracted)\n",
        "# Adjust this path according to the location of your dataset in your Colab environment\n",
        "NUSCENES_ROOT = '/data/sets/nuscenes'\n",
        "nusc = NuScenes(version='v1.0-mini', dataroot=NUSCENES_ROOT)\n",
        "\n",
        "print(\"NuScenes dataset loaded successfully.\")\n"
      ]
    },
    {
      "cell_type": "code",
      "execution_count": null,
      "metadata": {
        "id": "4Xw7guym7_Pd"
      },
      "outputs": [],
      "source": [
        "\n",
        "def map_ego_pose_to_vehicle_state(ego_pose_record):\n",
        "    \"\"\"\n",
        "    Transforms an ego_pose record into a VehicleState SES component.\n",
        "    \"\"\"\n",
        "    vehicle_state = {\n",
        "        'Position': {\n",
        "            'x': ego_pose_record['translation'][0],\n",
        "            'y': ego_pose_record['translation'][1],\n",
        "            'z': ego_pose_record['translation'][2],\n",
        "        },\n",
        "        'Orientation': {\n",
        "            'qw': ego_pose_record['rotation'][0],\n",
        "            'qx': ego_pose_record['rotation'][1],\n",
        "            'qy': ego_pose_record['rotation'][2],\n",
        "            'qz': ego_pose_record['rotation'][3],\n",
        "        },\n",
        "    }\n",
        "    return vehicle_state"
      ]
    },
    {
      "cell_type": "code",
      "execution_count": null,
      "metadata": {
        "id": "bfBhVeRY8A2-"
      },
      "outputs": [],
      "source": [
        "def map_sample_data_to_sensors(sample_data_record, calibrated_sensor_record):\n",
        "    \"\"\"\n",
        "    Transforms sample_data and calibrated_sensor records into SensorType and CalibrationDetails.\n",
        "    \"\"\"\n",
        "    sensor_info = {\n",
        "        'SensorType': sample_data_record['sensor_modality'],\n",
        "        'CalibrationDetails': {\n",
        "            'translation': calibrated_sensor_record['translation'],\n",
        "            'rotation': calibrated_sensor_record['rotation'],\n",
        "            'camera_intrinsic': calibrated_sensor_record.get('camera_intrinsic'), # For camera sensors\n",
        "        }\n",
        "    }\n",
        "    return sensor_info"
      ]
    },
    {
      "cell_type": "code",
      "execution_count": null,
      "metadata": {
        "id": "WxUUfPH58Dhe"
      },
      "outputs": [],
      "source": [
        "def map_annotation_to_object_info(annotation_record):\n",
        "    \"\"\"\n",
        "    Transforms a sample_annotation record into ObjectCategory, ObjectAttribute, Visibility, Position, and Orientation.\n",
        "    \"\"\"\n",
        "    object_info = {\n",
        "        'ObjectCategory': annotation_record['category_name'],\n",
        "        'ObjectAttribute': annotation_record['attribute_tokens'],\n",
        "        'Visibility': annotation_record['visibility'],\n",
        "        'Position': {\n",
        "            'x': annotation_record['translation'][0],\n",
        "            'y': annotation_record['translation'][1],\n",
        "            'z': annotation_record['translation'][2],\n",
        "        },\n",
        "        'Orientation': {\n",
        "            'qw': annotation_record['rotation'][0],\n",
        "            'qx': annotation_record['rotation'][1],\n",
        "            'qy': annotation_record['rotation'][2],\n",
        "            'qz': annotation_record['rotation'][3],\n",
        "        },\n",
        "    }\n",
        "    return object_info"
      ]
    },
    {
      "cell_type": "code",
      "execution_count": null,
      "metadata": {
        "id": "lVzB3F_68FXG"
      },
      "outputs": [],
      "source": [
        "def get_scene_environment_info(scene_record):\n",
        "    \"\"\"\n",
        "    Extracts environmental information from the scene record (currently limited, can be expanded).\n",
        "    NuScenes does not directly contain a 'weather' field; it usually comes from external metadata\n",
        "    or is inferred from scene.name or log_token. We can use scene.name as an example or infer from log records.\n",
        "    \"\"\"\n",
        "    environment_info = {\n",
        "        'SceneType': scene_record['name'], # This is typically inferred from the scene name, more sophisticated parsing may be needed.\n",
        "        'Weather': 'Unknown', # This field usually requires external metadata or inference.\n",
        "        'Illumination': 'Unknown' # This field also usually requires inference.\n",
        "    }\n",
        "\n",
        "    # Simple example: estimate weather and illumination based on scene name\n",
        "    if \"rain\" in scene_record['name'].lower():\n",
        "        environment_info['Weather'] = 'Rainy'\n",
        "    elif \"night\" in scene_record['name'].lower():\n",
        "        environment_info['Illumination'] = 'Night'\n",
        "    elif \"day\" in scene_record['name'].lower():\n",
        "        environment_info['Illumination'] = 'Day'\n",
        "\n",
        "    return environment_info"
      ]
    },
    {
      "cell_type": "code",
      "execution_count": null,
      "metadata": {
        "id": "stm2Wp2B8HjO"
      },
      "outputs": [],
      "source": [
        "def get_operational_conditions(log_record):\n",
        "    \"\"\"\n",
        "    Extracts operational conditions from the log record.\n",
        "    \"\"\"\n",
        "    operational_conditions = {\n",
        "        'Route': log_record['location'], # Location information from the log\n",
        "        'SpeedRange': 'Unknown', # Speed range not directly in log_record, can be calculated from samples\n",
        "        'Traffic': 'Unknown', # This also requires inference or external data\n",
        "        'RoadType': 'Unknown' # Can be inferred from log or scene_name\n",
        "    }\n",
        "    return operational_conditions"
      ]
    },
    {
      "cell_type": "code",
      "execution_count": null,
      "metadata": {
        "colab": {
          "base_uri": "https://localhost:8080/"
        },
        "id": "V7m-b5NTuOGX",
        "outputId": "e5015521-bf24-4c0c-f77f-4a1f00864a0d"
      },
      "outputs": [],
      "source": [
        "# Main ODD creation function\n",
        "def create_odd_from_sample(nusc, sample_token):\n",
        "    \"\"\"\n",
        "    Creates an ODD structure from a given NuScenes sample_token.\n",
        "    \"\"\"\n",
        "    sample = nusc.get('sample', sample_token)\n",
        "    odd_id = generate_odd_timestamp()\n",
        "\n",
        "    # Ego Vehicle State\n",
        "    # Use any sensor's ego_pose as they should be consistent for the vehicle at that timestamp\n",
        "    ego_pose_record = nusc.get('ego_pose', sample['data']['LIDAR_TOP'])\n",
        "    vehicle_state = map_ego_pose_to_vehicle_state(ego_pose_record)\n",
        "\n",
        "    # Sensor Information\n",
        "    sensors = {}\n",
        "    for sd_token in sample['data'].values():\n",
        "        sample_data_record = nusc.get('sample_data', sd_token)\n",
        "        calibrated_sensor_record = nusc.get('calibrated_sensor', sample_data_record['calibrated_sensor_token'])\n",
        "        sensor_info = map_sample_data_to_sensors(sample_data_record, calibrated_sensor_record)\n",
        "        sensors[sensor_info['SensorType']] = sensor_info\n",
        "\n",
        "    vehicle_state['Sensors'] = sensors\n",
        "\n",
        "    # Environmental Conditions\n",
        "    scene_record = nusc.get('scene', sample['scene_token']) # Access scene_token from sample\n",
        "    log_record = nusc.get('log', scene_record['log_token']) # Access log_token from scene_record\n",
        "    environment_info = get_scene_environment_info(scene_record)\n",
        "\n",
        "    # Object Information\n",
        "    objects = []\n",
        "    if 'annotations' in sample: # Check if annotations key exists\n",
        "        for ann_token in sample['annotations']:\n",
        "            annotation_record = nusc.get('sample_annotation', ann_token)\n",
        "            objects.append(map_annotation_to_object_info(annotation_record))\n",
        "\n",
        "    environment_info['Objects'] = objects\n",
        "\n",
        "    # Operational Conditions\n",
        "    operational_conditions = get_operational_conditions(log_record)\n",
        "\n",
        "    odd = {\n",
        "        'ODD_ID': odd_id,\n",
        "        'Timestamp': datetime.datetime.fromtimestamp(sample['timestamp'] / 1000000).isoformat(),\n",
        "        'VehicleState': vehicle_state,\n",
        "        'Environment': environment_info,\n",
        "        'OperationalConditions': operational_conditions\n",
        "    }\n",
        "\n",
        "    return odd\n",
        "\n",
        "print(\"Data transformation functions defined.\")\n",
        "\n",
        "# Create an example ODD\n",
        "first_sample_token = nusc.sample[0]['token']\n",
        "sample_odd = create_odd_from_sample(nusc, first_sample_token)\n",
        "print(\"\\nExample ODD created:\")\n",
        "print(json.dumps(sample_odd, indent=2))"
      ]
    },
    {
      "cell_type": "markdown",
      "metadata": {
        "id": "NYJdmDxIv5M4"
      },
      "source": [
        "yaml odd files genration"
      ]
    },
    {
      "cell_type": "code",
      "execution_count": null,
      "metadata": {
        "colab": {
          "base_uri": "https://localhost:8080/"
        },
        "id": "62d8eafe",
        "outputId": "77d706b9-7a9b-4d0e-ea80-decfac7df207"
      },
      "outputs": [],
      "source": [
        "output_dir = '/content/generated_ODDs'\n",
        "os.makedirs(output_dir, exist_ok=True)\n",
        "\n",
        "for i, odd in enumerate(sample_odds_list):\n",
        "    odd_id = odd.get('ODD_ID', f'odd_{i}')\n",
        "    file_path = os.path.join(output_dir, f'{odd_id}.yaml')\n",
        "    with open(file_path, 'w') as f:\n",
        "        yaml.dump(odd, f, default_flow_style=False)\n",
        "\n",
        "print(f\"Successfully saved {len(sample_odds_list)} ODD data in YAML format to the '{output_dir}' directory.\")"
      ]
    }
  ],
  "metadata": {
    "colab": {
      "provenance": []
    },
    "kernelspec": {
      "display_name": "Python 3",
      "name": "python3"
    },
    "language_info": {
      "name": "python"
    }
  },
  "nbformat": 4,
  "nbformat_minor": 0
}
